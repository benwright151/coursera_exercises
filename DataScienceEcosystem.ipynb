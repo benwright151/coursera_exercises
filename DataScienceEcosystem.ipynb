{
 "cells": [
  {
   "cell_type": "markdown",
   "id": "230ddef6-eae7-4f48-a665-9a870c55ec9c",
   "metadata": {},
   "source": [
    "# Data Science Tools and Ecosystem"
   ]
  },
  {
   "cell_type": "markdown",
   "id": "76707d57-21e2-4358-b31c-6ef7c74fe4b8",
   "metadata": {},
   "source": [
    "# Introduction\n",
    "## In this notebook, Data Science Tools and Ecosystems are summaried."
   ]
  },
  {
   "cell_type": "markdown",
   "id": "28485732-2189-47c6-8296-c6833a1877ce",
   "metadata": {},
   "source": [
    "__Objectives__\n",
    "- List popular languages for Data Science\n",
    "- List popular libraries for Data Science\n",
    "- List open-source developer tools for Data Science\n",
    "- Show a few example expressions that highlight the usefulness of Jupyter Notebooks"
   ]
  },
  {
   "cell_type": "markdown",
   "id": "d1b07db4-2991-48c8-940a-052c85ff8bd0",
   "metadata": {},
   "source": [
    "# Data science languages\n",
    "## Some of the popular languages that Data Scientists use are:\n",
    "1. Python\n",
    "2. SQL\n",
    "3. JavaScript\n",
    "4. C++\n",
    "5. Java\n",
    "6. R / R Studio"
   ]
  },
  {
   "cell_type": "markdown",
   "id": "d33be02d-231d-4c7c-9b4b-7b7733814144",
   "metadata": {},
   "source": [
    "# Data Science Libraries\n",
    "## Some of the commonly used libraries used by Data Scientists include: \n",
    "## For Python:\n",
    "1. Pandas\n",
    "2. Numpy\n",
    "3. Matplotlib\n",
    "4. Scikit-learn\n",
    "5. Seaborne\n",
    "6. Tensorflow\n",
    "7. Pytorch\n",
    "## For R:\n",
    "1. ggplot\n",
    "2. plotly\n",
    "3. lattice\n",
    "4. leaflet\n",
    "5. caret"
   ]
  },
  {
   "cell_type": "markdown",
   "id": "4718311d-f684-41a9-873c-a04ef116ac03",
   "metadata": {},
   "source": [
    "| Data Science Tools |\n",
    "| --- | \n",
    "| VS Code |\n",
    "| Jupyter Labs/ Jupyter Notebook | \n",
    "| Github |\n",
    "| R Studio |\n",
    "| Anaconda | "
   ]
  },
  {
   "cell_type": "markdown",
   "id": "c5079f7f-e73e-47a3-8029-7ffac77d5f66",
   "metadata": {},
   "source": [
    "### Below are a few examples of evaluation arithmetic expressions in Python"
   ]
  },
  {
   "cell_type": "code",
   "execution_count": 1,
   "id": "1760963b-2803-4faf-856c-ae4a0f885e82",
   "metadata": {},
   "outputs": [
    {
     "data": {
      "text/plain": [
       "17"
      ]
     },
     "execution_count": 1,
     "metadata": {},
     "output_type": "execute_result"
    }
   ],
   "source": [
    "# This is a simple arithmetic expression to multiple then add integers\n",
    "(3*4)+5"
   ]
  },
  {
   "cell_type": "code",
   "execution_count": 2,
   "id": "5ef659d9-85ea-4abf-97b5-d73eb90fd4dd",
   "metadata": {},
   "outputs": [
    {
     "data": {
      "text/plain": [
       "3.3333333333333335"
      ]
     },
     "execution_count": 2,
     "metadata": {},
     "output_type": "execute_result"
    }
   ],
   "source": [
    "# This will convert 200 minutes to hours by dividing by 60\n",
    "minutes = 200\n",
    "hours = minutes / 60\n",
    "hours\n"
   ]
  },
  {
   "cell_type": "markdown",
   "id": "6385a01a-be37-40fe-9ef3-40422c345b9f",
   "metadata": {},
   "source": [
    "## Author\n",
    "Ben Wright"
   ]
  }
 ],
 "metadata": {
  "kernelspec": {
   "display_name": "Python 3 (ipykernel)",
   "language": "python",
   "name": "python3"
  },
  "language_info": {
   "codemirror_mode": {
    "name": "ipython",
    "version": 3
   },
   "file_extension": ".py",
   "mimetype": "text/x-python",
   "name": "python",
   "nbconvert_exporter": "python",
   "pygments_lexer": "ipython3",
   "version": "3.10.12"
  }
 },
 "nbformat": 4,
 "nbformat_minor": 5
}
